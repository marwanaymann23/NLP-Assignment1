{
 "cells": [
  {
   "cell_type": "code",
   "execution_count": 3,
   "metadata": {},
   "outputs": [],
   "source": [
    "import os\n",
    "import random\n",
    "from collections import defaultdict, Counter\n",
    "from tkinter import Entry, Label, Button, Tk, StringVar, Listbox, END\n",
    "import nltk\n",
    "from nltk.corpus import stopwords\n",
    "from nltk.tokenize import word_tokenize"
   ]
  },
  {
   "cell_type": "code",
   "execution_count": null,
   "metadata": {},
   "outputs": [],
   "source": [
    "nltk.download(\"punkt\")\n",
    "nltk.download(\"stopwords\")"
   ]
  },
  {
   "cell_type": "code",
   "execution_count": 8,
   "metadata": {},
   "outputs": [],
   "source": [
    "import tkinter as tk\n",
    "\n",
    "# Create a function for the search button\n",
    "def search():\n",
    "    # Add your search functionality here\n",
    "    pass\n",
    " \n",
    "# Create a main window\n",
    "window = tk.Tk()\n",
    "\n",
    "# Set the window title\n",
    "window.title(\"Assignment 1\")\n",
    "\n",
    "# Set the window size\n",
    "window.geometry(\"800x600\")\n",
    "\n",
    "\n",
    "# Create a Google logo label\n",
    "logo = tk.Label(window, text=\"Google\", font=(\"Arial Bold\", 50)).pack()\n",
    "#logo.place()\n",
    "\n",
    "# Create a label for the search bar\n",
    "label = tk.Label(window, text=\"Search\", font=(\"Arial\", 20))\n",
    "label.place(x=250, y=300)\n",
    "\n",
    "# Create an entry widget for the search bar\n",
    "entry = tk.Entry(window, width=50, font=(\"Arial\", 15))\n",
    "entry.place(x=250, y=350)\n",
    "\n",
    "# Create a button for the search function\n",
    "button = tk.Button(window, text=\"Google Search\", bg=\"#4285F4\", fg=\"white\", font=(\"Arial\", 15), command=search)\n",
    "button.place(x=550, y=445)\n",
    "\n",
    "# Create a label for the \"I'm Feeling Lucky\" option\n",
    "feeling_lucky_label = tk.Label(window, text=\"I'm Feeling Lucky\", fg=\"#4285F4\", font=(\"Arial\", 15))\n",
    "feeling_lucky_label.place(x=250, y=400)\n",
    "\n",
    "# Create a button for the \"I'm Feeling Lucky\" option\n",
    "feeling_lucky_button = tk.Button(window, text=\"I'm Feeling Lucky\", fg=\"#4285F4\", font=(\"Arial\", 15), bd=0, command=search)\n",
    "feeling_lucky_button.place(x=460, y=400)\n",
    "\n",
    "# Run the main loop\n",
    "window.mainloop()"
   ]
  },
  {
   "cell_type": "code",
   "execution_count": null,
   "metadata": {},
   "outputs": [],
   "source": []
  }
 ],
 "metadata": {
  "kernelspec": {
   "display_name": "Python 3.9.13 ('base')",
   "language": "python",
   "name": "python3"
  },
  "language_info": {
   "codemirror_mode": {
    "name": "ipython",
    "version": 3
   },
   "file_extension": ".py",
   "mimetype": "text/x-python",
   "name": "python",
   "nbconvert_exporter": "python",
   "pygments_lexer": "ipython3",
   "version": "3.9.13"
  },
  "orig_nbformat": 4,
  "vscode": {
   "interpreter": {
    "hash": "937409543d3cda80baf812f97676fee3077adabd26b36b3c9179d84ed92260c9"
   }
  }
 },
 "nbformat": 4,
 "nbformat_minor": 2
}
