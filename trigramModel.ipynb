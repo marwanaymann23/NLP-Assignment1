{
 "cells": [
  {
   "cell_type": "code",
   "execution_count": 1,
   "metadata": {},
   "outputs": [
    {
     "name": "stderr",
     "output_type": "stream",
     "text": [
      "[nltk_data] Downloading package punkt to\n",
      "[nltk_data]     C:\\Users\\sata\\AppData\\Roaming\\nltk_data...\n",
      "[nltk_data]   Package punkt is already up-to-date!\n"
     ]
    }
   ],
   "source": [
    "#trigram model uses nltk only, the other imports are for GUI, file reading and symbols removal\n",
    "import nltk\n",
    "nltk.download('punkt')\n",
    "\n",
    "import tkinter as tk\n",
    "import customtkinter as ctk\n",
    "import codecs\n",
    "import re"
   ]
  },
  {
   "cell_type": "code",
   "execution_count": 2,
   "metadata": {},
   "outputs": [
    {
     "data": {
      "text/plain": [
       "' input_file = \"raw_data.txt\"\\noutput_file = \"sampled_data.txt\"\\n\\nwith codecs.open(input_file, \\'r\\', encoding=\\'utf8\\', errors=\\'ignore\\') as src_file:\\n        text = src_file.read().split()[:210000]\\n\\nwith codecs.open(output_file, \\'w\\', encoding=\\'utf8\\', errors=\\'ignore\\') as output_file:\\n        output_file.write(\" \".join(text)) '"
      ]
     },
     "execution_count": 2,
     "metadata": {},
     "output_type": "execute_result"
    }
   ],
   "source": [
    "\"\"\" input_file = \"raw_data.txt\"\n",
    "output_file = \"sampled_data.txt\"\n",
    "\n",
    "with codecs.open(input_file, 'r', encoding='utf8', errors='ignore') as src_file:\n",
    "        text = src_file.read().split()[:210000]\n",
    "\n",
    "with codecs.open(output_file, 'w', encoding='utf8', errors='ignore') as output_file:\n",
    "        output_file.write(\" \".join(text)) \"\"\""
   ]
  },
  {
   "cell_type": "code",
   "execution_count": 3,
   "metadata": {},
   "outputs": [],
   "source": [
    "# Define a function to train the trigram model on a text file\n",
    "def train_model(file_path, no_words):\n",
    "    # Read the text from the file\n",
    "    with codecs.open(file_path, 'r', encoding='utf8', errors='ignore') as src_file:\n",
    "        text = src_file.read()      \n",
    "    \n",
    "    #OPTIONAL remove symbols and punctuation\n",
    "    text = re.sub('[^a-zA-Z0-9]', ' ', text)\n",
    "    \n",
    "    # Tokenize the text into words\n",
    "    words = nltk.word_tokenize(text)\n",
    "\n",
    "    # Create a list of trigrams from the words\n",
    "    trigrams = list(nltk.trigrams(words))\n",
    "\n",
    "    # Create a dictionary to store the trigram frequencies\n",
    "    trigram_freqs = {}\n",
    "\n",
    "\n",
    "    # Loop over the trigrams and count their frequencies\n",
    "    for trigram in trigrams:\n",
    "        prefix = trigram[:2]\n",
    "        suffix = trigram[2]\n",
    "        if prefix in trigram_freqs:\n",
    "            if suffix in trigram_freqs[prefix]:\n",
    "                trigram_freqs[prefix][suffix] += 1\n",
    "            else:\n",
    "                trigram_freqs[prefix][suffix] = 1\n",
    "        else:\n",
    "            trigram_freqs[prefix] = {suffix: 1}\n",
    "\n",
    "    # Convert the trigram frequencies to probabilities\n",
    "    trigram_probs = {}\n",
    "    for prefix in trigram_freqs:\n",
    "        total_count = sum(trigram_freqs[prefix].values())\n",
    "        trigram_probs[prefix] = {suffix: count / total_count for suffix, count in trigram_freqs[prefix].items()}\n",
    "\n",
    "    # Return the trigram probabilities\n",
    "    return trigram_probs"
   ]
  },
  {
   "cell_type": "code",
   "execution_count": 4,
   "metadata": {},
   "outputs": [],
   "source": [
    "# Define a function to suggest word completions based on the trigram model\n",
    "def suggest_completions(trigram_probs, input_str):\n",
    "    # Tokenize the input string into words\n",
    "    words = nltk.word_tokenize(input_str)\n",
    "\n",
    "    # Get the last two words\n",
    "    prefix = tuple(words[-2:])\n",
    "\n",
    "    # Get the probabilities of the next words\n",
    "    if prefix in trigram_probs:\n",
    "        probs = trigram_probs[prefix]\n",
    "    else:\n",
    "        probs = {}\n",
    "\n",
    "    # Sort the probabilities in descending order\n",
    "    sorted_probs = sorted(probs.items(), key=lambda x: x[1], reverse=True)\n",
    "\n",
    "    # Get the top 5 suggestions\n",
    "    suggestions = [suffix for suffix,_ in sorted_probs[:5]]\n",
    "\n",
    "    print(sorted_probs)\n",
    "    # Return the suggestions\n",
    "    return suggestions"
   ]
  },
  {
   "cell_type": "code",
   "execution_count": 5,
   "metadata": {},
   "outputs": [],
   "source": [
    "def suggestOneWordInput(trigram_probs, input_str):\n",
    "    \n",
    "     # Tokenize the input string into words\n",
    "    words = nltk.word_tokenize(input_str)\n",
    "    \n",
    "    # Get the last prefix\n",
    "    prefix = (words[-1],)\n",
    "    \n",
    "    # Get the probabilities of the next words\n",
    "    completions = []\n",
    "    for k, v in trigram_probs.items():\n",
    "        if k[1] == prefix[0]:\n",
    "            completions.extend([(k[0], x, y) for x, y in v.items()])\n",
    "\n",
    "    # Sort the completions in descending order\n",
    "    sorted_completions = sorted(completions, key=lambda x: x[2], reverse=True)\n",
    "\n",
    "    # Get the top 5 suggestions\n",
    "    suggestions = [x for x, _, _ in sorted_completions[:5]]\n",
    "\n",
    "    # Return the suggestions\n",
    "    return suggestions"
   ]
  },
  {
   "cell_type": "code",
   "execution_count": 6,
   "metadata": {},
   "outputs": [],
   "source": [
    "# Define a function to update the suggestions in the GUI\n",
    "def update_suggestions():\n",
    "    input_str = input_box.get()\n",
    "    checkInput = nltk.word_tokenize(input_str)\n",
    "    if len(checkInput) > 1:\n",
    "        suggestions = suggest_completions(trigram_probs, input_str)\n",
    "    elif len(checkInput) == 1:\n",
    "        suggestions = suggestOneWordInput(trigram_probs, input_str)\n",
    "    else:\n",
    "        suggestions = []\n",
    "    suggestion_str = '\\n'.join(suggestions)\n",
    "    suggestion_label.configure(text=suggestion_str)"
   ]
  },
  {
   "cell_type": "code",
   "execution_count": 7,
   "metadata": {},
   "outputs": [],
   "source": [
    "# Load the text file and train the trigram model\n",
    "file_path = 'sampled_data.txt'\n",
    "trigram_probs = train_model(file_path, 200000)"
   ]
  },
  {
   "cell_type": "code",
   "execution_count": 8,
   "metadata": {},
   "outputs": [
    {
     "name": "stdout",
     "output_type": "stream",
     "text": [
      "[]\n",
      "[]\n",
      "[]\n",
      "[]\n",
      "[('City', 0.15384615384615385), ('Times', 0.1282051282051282), ('Review', 0.07692307692307693), ('and', 0.05128205128205128), ('Stock', 0.05128205128205128), ('police', 0.02564102564102564), ('She', 0.02564102564102564), ('The', 0.02564102564102564), ('or', 0.02564102564102564), ('magazine', 0.02564102564102564), ('against', 0.02564102564102564), ('ICE', 0.02564102564102564), ('from', 0.02564102564102564), ('the', 0.02564102564102564), ('a', 0.02564102564102564), ('If', 0.02564102564102564), ('marks', 0.02564102564102564), ('who', 0.02564102564102564), ('will', 0.02564102564102564), ('Brad', 0.02564102564102564), ('to', 0.02564102564102564), ('court', 0.02564102564102564), ('where', 0.02564102564102564), ('s', 0.02564102564102564), ('Tuesday', 0.02564102564102564), ('Post', 0.02564102564102564)]\n",
      "[]\n",
      "[]\n",
      "[]\n"
     ]
    }
   ],
   "source": [
    "# Create the GUI\n",
    "ctk.set_appearance_mode(\"System\")\n",
    "ctk.set_default_color_theme(\"blue\")\n",
    "\n",
    "app = ctk.CTk()\n",
    "app.geometry(\"720x480\")\n",
    "app.title(\"Autofill\")\n",
    "\n",
    "title = ctk.CTkLabel(app, text=\"Enter text\")\n",
    "title.pack(padx=10, pady=10)\n",
    "\n",
    "# Create the input box\n",
    "user_input = tk.StringVar()\n",
    "input_box = ctk.CTkEntry(app, width=350, height=40, textvariable=user_input)\n",
    "input_box.pack(pady=20)\n",
    "input_box.bind('<KeyRelease>', lambda event: update_suggestions())\n",
    "\n",
    "# Create the suggestion label\n",
    "suggestion_label = ctk.CTkLabel(app, text='', font=('Arial', 18))\n",
    "suggestion_label.pack()\n",
    "\n",
    "app.mainloop()\n"
   ]
  },
  {
   "cell_type": "code",
   "execution_count": null,
   "metadata": {},
   "outputs": [],
   "source": []
  }
 ],
 "metadata": {
  "kernelspec": {
   "display_name": "Python 3.11.2 64-bit",
   "language": "python",
   "name": "python3"
  },
  "language_info": {
   "codemirror_mode": {
    "name": "ipython",
    "version": 3
   },
   "file_extension": ".py",
   "mimetype": "text/x-python",
   "name": "python",
   "nbconvert_exporter": "python",
   "pygments_lexer": "ipython3",
   "version": "3.11.2"
  },
  "orig_nbformat": 4,
  "vscode": {
   "interpreter": {
    "hash": "4ca7f25a5faaceec7a479c0f457faf9511c376a4cd54800cfd76be18d66a44b1"
   }
  }
 },
 "nbformat": 4,
 "nbformat_minor": 2
}
